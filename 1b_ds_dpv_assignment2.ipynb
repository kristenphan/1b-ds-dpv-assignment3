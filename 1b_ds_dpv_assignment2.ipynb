{
  "nbformat": 4,
  "nbformat_minor": 0,
  "metadata": {
    "colab": {
      "name": "1b-ds-dpv-assignment2.ipynb",
      "provenance": [],
      "authorship_tag": "ABX9TyPa0YwWug0GLVlEvCu5EJV+",
      "include_colab_link": true
    },
    "kernelspec": {
      "name": "python3",
      "display_name": "Python 3"
    },
    "language_info": {
      "name": "python"
    }
  },
  "cells": [
    {
      "cell_type": "markdown",
      "metadata": {
        "id": "view-in-github",
        "colab_type": "text"
      },
      "source": [
        "<a href=\"https://colab.research.google.com/github/kristenphan/1b-ds-dpv-assignment3/blob/master/1b_ds_dpv_assignment2.ipynb\" target=\"_parent\"><img src=\"https://colab.research.google.com/assets/colab-badge.svg\" alt=\"Open In Colab\"/></a>"
      ]
    },
    {
      "cell_type": "code",
      "metadata": {
        "colab": {
          "base_uri": "https://localhost:8080/"
        },
        "id": "fg6inLZLO_yE",
        "outputId": "20b7cad0-3f7c-44e1-a03c-e18a108fb79a"
      },
      "source": [
        "print(\"hello from colab trying to push new notebook to github\")"
      ],
      "execution_count": 5,
      "outputs": [
        {
          "output_type": "stream",
          "name": "stdout",
          "text": [
            "hello from colab trying to push new notebook to github\n"
          ]
        }
      ]
    }
  ]
}