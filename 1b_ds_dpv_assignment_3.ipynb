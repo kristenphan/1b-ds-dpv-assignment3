{
  "nbformat": 4,
  "nbformat_minor": 0,
  "metadata": {
    "colab": {
      "name": "1b-ds-dpv-assignment-3.ipynb",
      "provenance": [],
      "authorship_tag": "ABX9TyNV8Vax+IEdM4uP4id+7NKf",
      "include_colab_link": true
    },
    "kernelspec": {
      "name": "python3",
      "display_name": "Python 3"
    },
    "language_info": {
      "name": "python"
    }
  },
  "cells": [
    {
      "cell_type": "markdown",
      "metadata": {
        "id": "view-in-github",
        "colab_type": "text"
      },
      "source": [
        "<a href=\"https://colab.research.google.com/github/kristenphan/1b-ds-dpv-assignment3/blob/master/1b_ds_dpv_assignment_3.ipynb\" target=\"_parent\"><img src=\"https://colab.research.google.com/assets/colab-badge.svg\" alt=\"Open In Colab\"/></a>"
      ]
    },
    {
      "cell_type": "markdown",
      "metadata": {
        "id": "ryw-aXxGR2TM"
      },
      "source": [
        "Kristen Thi Ha Giang Phan s2616874\\\n",
        "Data Science course 2021/22 1B\\\n",
        "University of Twente\\\n",
        "02/12/2021\\\n",
        "\\\n",
        "DPV Assignment 3:"
      ]
    },
    {
      "cell_type": "code",
      "metadata": {
        "colab": {
          "base_uri": "https://localhost:8080/"
        },
        "id": "fg6inLZLO_yE",
        "outputId": "f87bb022-6700-44f4-f022-7b366c0012cd"
      },
      "source": [
        "print(\"hello from colab trying to push new notebook to github editting an existing notebook\")"
      ],
      "execution_count": 6,
      "outputs": [
        {
          "output_type": "stream",
          "name": "stdout",
          "text": [
            "hello from colab trying to push new notebook to github editting an existing notebook\n"
          ]
        }
      ]
    }
  ]
}